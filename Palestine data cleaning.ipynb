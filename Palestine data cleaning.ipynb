{
 "cells": [
  {
   "cell_type": "markdown",
   "metadata": {},
   "source": [
    "# Fatalities in the Israeli-Palestinian"
   ]
  },
  {
   "cell_type": "code",
   "execution_count": 1,
   "metadata": {},
   "outputs": [],
   "source": [
    "import pandas as pd\n",
    "import numpy as np\n",
    "import plotly.express as px\n",
    "import seaborn as sns\n",
    "import matplotlib.pyplot as plt"
   ]
  },
  {
   "cell_type": "code",
   "execution_count": 2,
   "metadata": {},
   "outputs": [],
   "source": [
    "df=pd.read_csv(r'C:\\My Career\\AI & Data Science\\My Work\\Excel&power pi\\Palestine\\fatalities_isr_pse_conflict_2000_to_2023.csv')"
   ]
  },
  {
   "cell_type": "code",
   "execution_count": 3,
   "metadata": {},
   "outputs": [
    {
     "data": {
      "text/html": [
       "<div>\n",
       "<style scoped>\n",
       "    .dataframe tbody tr th:only-of-type {\n",
       "        vertical-align: middle;\n",
       "    }\n",
       "\n",
       "    .dataframe tbody tr th {\n",
       "        vertical-align: top;\n",
       "    }\n",
       "\n",
       "    .dataframe thead th {\n",
       "        text-align: right;\n",
       "    }\n",
       "</style>\n",
       "<table border=\"1\" class=\"dataframe\">\n",
       "  <thead>\n",
       "    <tr style=\"text-align: right;\">\n",
       "      <th></th>\n",
       "      <th>name</th>\n",
       "      <th>date_of_event</th>\n",
       "      <th>age</th>\n",
       "      <th>citizenship</th>\n",
       "      <th>event_location</th>\n",
       "      <th>event_location_district</th>\n",
       "      <th>event_location_region</th>\n",
       "      <th>date_of_death</th>\n",
       "      <th>gender</th>\n",
       "      <th>took_part_in_the_hostilities</th>\n",
       "      <th>place_of_residence</th>\n",
       "      <th>place_of_residence_district</th>\n",
       "      <th>type_of_injury</th>\n",
       "      <th>ammunition</th>\n",
       "      <th>killed_by</th>\n",
       "      <th>notes</th>\n",
       "    </tr>\n",
       "  </thead>\n",
       "  <tbody>\n",
       "    <tr>\n",
       "      <th>3522</th>\n",
       "      <td>Razan Tawfiq Ahmad Abu Jame'</td>\n",
       "      <td>2014-07-20</td>\n",
       "      <td>14.0</td>\n",
       "      <td>Palestinian</td>\n",
       "      <td>Bani Suheila</td>\n",
       "      <td>Khan Yunis</td>\n",
       "      <td>Gaza Strip</td>\n",
       "      <td>2014-07-20</td>\n",
       "      <td>F</td>\n",
       "      <td>No</td>\n",
       "      <td>Bani Suheila</td>\n",
       "      <td>Khan Yunis</td>\n",
       "      <td>gunfire</td>\n",
       "      <td>NaN</td>\n",
       "      <td>Israeli security forces</td>\n",
       "      <td>Killed at home with 24 other members of her fa...</td>\n",
       "    </tr>\n",
       "    <tr>\n",
       "      <th>2176</th>\n",
       "      <td>Hazem Khaled 'Abd al-Mu'ti 'Aweidah</td>\n",
       "      <td>2014-08-01</td>\n",
       "      <td>21.0</td>\n",
       "      <td>Palestinian</td>\n",
       "      <td>Rafah</td>\n",
       "      <td>Rafah</td>\n",
       "      <td>Gaza Strip</td>\n",
       "      <td>2014-08-03</td>\n",
       "      <td>M</td>\n",
       "      <td>No</td>\n",
       "      <td>Rafah</td>\n",
       "      <td>Rafah</td>\n",
       "      <td>gunfire</td>\n",
       "      <td>NaN</td>\n",
       "      <td>Israeli security forces</td>\n",
       "      <td>Killed on the street in the a-Jinenah neighbor...</td>\n",
       "    </tr>\n",
       "    <tr>\n",
       "      <th>8735</th>\n",
       "      <td>Muhammad Suliman Khalil Sarsur</td>\n",
       "      <td>2003-11-22</td>\n",
       "      <td>24.0</td>\n",
       "      <td>Palestinian</td>\n",
       "      <td>Netzarim</td>\n",
       "      <td>Deir al-Balah</td>\n",
       "      <td>Gaza Strip</td>\n",
       "      <td>2003-11-22</td>\n",
       "      <td>M</td>\n",
       "      <td>Yes</td>\n",
       "      <td>Deir al-Balah Camp</td>\n",
       "      <td>Deir al-Balah</td>\n",
       "      <td>gunfire</td>\n",
       "      <td>live ammunition</td>\n",
       "      <td>Israeli security forces</td>\n",
       "      <td>Killed during an attempt to infiltrate into th...</td>\n",
       "    </tr>\n",
       "    <tr>\n",
       "      <th>9482</th>\n",
       "      <td>Mahmoud Shaladan</td>\n",
       "      <td>2002-12-02</td>\n",
       "      <td>19.0</td>\n",
       "      <td>Palestinian</td>\n",
       "      <td>Netzarim</td>\n",
       "      <td>Deir al-Balah</td>\n",
       "      <td>Gaza Strip</td>\n",
       "      <td>2002-12-02</td>\n",
       "      <td>M</td>\n",
       "      <td>Yes</td>\n",
       "      <td>Deir al-Balah</td>\n",
       "      <td>Deir al-Balah</td>\n",
       "      <td>gunfire</td>\n",
       "      <td>NaN</td>\n",
       "      <td>Israeli security forces</td>\n",
       "      <td>Killed during an attack on soldiers.</td>\n",
       "    </tr>\n",
       "    <tr>\n",
       "      <th>723</th>\n",
       "      <td>Muhammad 'Abd al-Mun'im Ibrahim Shahin</td>\n",
       "      <td>2021-05-12</td>\n",
       "      <td>26.0</td>\n",
       "      <td>Palestinian</td>\n",
       "      <td>a-Nuseirat R.C.</td>\n",
       "      <td>Deir al-Balah</td>\n",
       "      <td>Gaza Strip</td>\n",
       "      <td>2021-05-12</td>\n",
       "      <td>M</td>\n",
       "      <td>Yes</td>\n",
       "      <td>a-Nuseirat Camp</td>\n",
       "      <td>Deir al-Balah</td>\n",
       "      <td>gunfire</td>\n",
       "      <td>missile</td>\n",
       "      <td>Israeli security forces</td>\n",
       "      <td>Killed with three other Islamic Jihad military...</td>\n",
       "    </tr>\n",
       "  </tbody>\n",
       "</table>\n",
       "</div>"
      ],
      "text/plain": [
       "                                        name date_of_event   age  citizenship  \\\n",
       "3522            Razan Tawfiq Ahmad Abu Jame'    2014-07-20  14.0  Palestinian   \n",
       "2176     Hazem Khaled 'Abd al-Mu'ti 'Aweidah    2014-08-01  21.0  Palestinian   \n",
       "8735          Muhammad Suliman Khalil Sarsur    2003-11-22  24.0  Palestinian   \n",
       "9482                        Mahmoud Shaladan    2002-12-02  19.0  Palestinian   \n",
       "723   Muhammad 'Abd al-Mun'im Ibrahim Shahin    2021-05-12  26.0  Palestinian   \n",
       "\n",
       "       event_location event_location_district event_location_region  \\\n",
       "3522     Bani Suheila              Khan Yunis            Gaza Strip   \n",
       "2176            Rafah                   Rafah            Gaza Strip   \n",
       "8735         Netzarim           Deir al-Balah            Gaza Strip   \n",
       "9482         Netzarim           Deir al-Balah            Gaza Strip   \n",
       "723   a-Nuseirat R.C.           Deir al-Balah            Gaza Strip   \n",
       "\n",
       "     date_of_death gender took_part_in_the_hostilities  place_of_residence  \\\n",
       "3522    2014-07-20      F                           No        Bani Suheila   \n",
       "2176    2014-08-03      M                           No               Rafah   \n",
       "8735    2003-11-22      M                          Yes  Deir al-Balah Camp   \n",
       "9482    2002-12-02      M                          Yes       Deir al-Balah   \n",
       "723     2021-05-12      M                          Yes     a-Nuseirat Camp   \n",
       "\n",
       "     place_of_residence_district type_of_injury       ammunition  \\\n",
       "3522                  Khan Yunis        gunfire              NaN   \n",
       "2176                       Rafah        gunfire              NaN   \n",
       "8735               Deir al-Balah        gunfire  live ammunition   \n",
       "9482               Deir al-Balah        gunfire              NaN   \n",
       "723                Deir al-Balah        gunfire          missile   \n",
       "\n",
       "                    killed_by  \\\n",
       "3522  Israeli security forces   \n",
       "2176  Israeli security forces   \n",
       "8735  Israeli security forces   \n",
       "9482  Israeli security forces   \n",
       "723   Israeli security forces   \n",
       "\n",
       "                                                  notes  \n",
       "3522  Killed at home with 24 other members of her fa...  \n",
       "2176  Killed on the street in the a-Jinenah neighbor...  \n",
       "8735  Killed during an attempt to infiltrate into th...  \n",
       "9482               Killed during an attack on soldiers.  \n",
       "723   Killed with three other Islamic Jihad military...  "
      ]
     },
     "execution_count": 3,
     "metadata": {},
     "output_type": "execute_result"
    }
   ],
   "source": [
    "df.sample(5)"
   ]
  },
  {
   "cell_type": "code",
   "execution_count": 4,
   "metadata": {},
   "outputs": [
    {
     "data": {
      "text/plain": [
       "(11124, 16)"
      ]
     },
     "execution_count": 4,
     "metadata": {},
     "output_type": "execute_result"
    }
   ],
   "source": [
    "df.shape"
   ]
  },
  {
   "cell_type": "code",
   "execution_count": 5,
   "metadata": {},
   "outputs": [
    {
     "data": {
      "text/plain": [
       "name                               0\n",
       "date_of_event                      0\n",
       "age                              129\n",
       "citizenship                        0\n",
       "event_location                     0\n",
       "event_location_district            0\n",
       "event_location_region              0\n",
       "date_of_death                      0\n",
       "gender                            20\n",
       "took_part_in_the_hostilities    1430\n",
       "place_of_residence                68\n",
       "place_of_residence_district       68\n",
       "type_of_injury                   291\n",
       "ammunition                      5253\n",
       "killed_by                          0\n",
       "notes                            280\n",
       "dtype: int64"
      ]
     },
     "execution_count": 5,
     "metadata": {},
     "output_type": "execute_result"
    }
   ],
   "source": [
    "df.isnull().sum()"
   ]
  },
  {
   "cell_type": "code",
   "execution_count": 6,
   "metadata": {},
   "outputs": [],
   "source": [
    "df['age'] = df.groupby('citizenship')['age'].transform(lambda x: x.fillna(x.median()))\n",
    "df['gender']=df['gender'].fillna(df['gender'].mode()[0])\n",
    "\n",
    "df['ammunition']=df['ammunition'].fillna('Unknown')\n",
    "df['type_of_injury']=df['type_of_injury'].fillna('Unknown')\n",
    "df.drop(columns='notes',inplace=True)\n",
    "df.dropna(inplace=True)"
   ]
  },
  {
   "cell_type": "code",
   "execution_count": 9,
   "metadata": {},
   "outputs": [
    {
     "data": {
      "text/plain": [
       "name                            0\n",
       "date_of_event                   0\n",
       "age                             0\n",
       "citizenship                     0\n",
       "event_location                  0\n",
       "event_location_district         0\n",
       "event_location_region           0\n",
       "date_of_death                   0\n",
       "gender                          0\n",
       "took_part_in_the_hostilities    0\n",
       "place_of_residence              0\n",
       "place_of_residence_district     0\n",
       "type_of_injury                  0\n",
       "ammunition                      0\n",
       "killed_by                       0\n",
       "dtype: int64"
      ]
     },
     "execution_count": 9,
     "metadata": {},
     "output_type": "execute_result"
    }
   ],
   "source": [
    "df.isnull().sum()\n",
    "\n"
   ]
  },
  {
   "cell_type": "code",
   "execution_count": 12,
   "metadata": {},
   "outputs": [],
   "source": [
    "df.duplicated().sum()\n",
    "df.drop_duplicates(inplace=True)"
   ]
  },
  {
   "cell_type": "code",
   "execution_count": 13,
   "metadata": {},
   "outputs": [],
   "source": [
    "df.to_csv(r'C:\\My Career\\AI & Data Science\\My Work\\Excel&power pi\\Palestine\\fatalities_isr_pse_conflict_2000_to_2023Edited.csv')"
   ]
  }
 ],
 "metadata": {
  "kernelspec": {
   "display_name": "Python 3",
   "language": "python",
   "name": "python3"
  },
  "language_info": {
   "codemirror_mode": {
    "name": "ipython",
    "version": 3
   },
   "file_extension": ".py",
   "mimetype": "text/x-python",
   "name": "python",
   "nbconvert_exporter": "python",
   "pygments_lexer": "ipython3",
   "version": "3.10.0"
  }
 },
 "nbformat": 4,
 "nbformat_minor": 2
}
